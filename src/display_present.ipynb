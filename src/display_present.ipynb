{
 "cells": [
  {
   "cell_type": "code",
   "execution_count": 5,
   "metadata": {},
   "outputs": [
    {
     "ename": "SyntaxError",
     "evalue": "invalid syntax (<ipython-input-5-33dc84c162d5>, line 18)",
     "output_type": "error",
     "traceback": [
      "\u001b[0;36m  File \u001b[0;32m\"<ipython-input-5-33dc84c162d5>\"\u001b[0;36m, line \u001b[0;32m18\u001b[0m\n\u001b[0;31m    print(total_real_positive:  all_simulation[median_index].est_num)\u001b[0m\n\u001b[0m                             ^\u001b[0m\n\u001b[0;31mSyntaxError\u001b[0m\u001b[0;31m:\u001b[0m invalid syntax\n"
     ]
    }
   ],
   "source": [
    "from display import *\n",
    "from scipy import stats\n",
    "total = 186\n",
    "target_recall = 0.7\n",
    "thres = 10\n",
    "label_name_s = ['keymove', 'jump', 'costopall', 'wrap', 'cochangescore', 'movetomouse','moveanimate']\n",
    "count_s_all = {}\n",
    "\n",
    "\n",
    "def get_summary_present(label_name, total, thres, target_recall):\n",
    "    all_simulation = load_obj('all_simulation_'+label_name,'/Users/wwang33/Documents/IJAIED20/src/workspace/data/game_labels_'+str(total), 'simulation_'+ str(thres) +\"_\"+ str(target_recall))\n",
    "    count_s = []\n",
    "    for simulation in all_simulation:\n",
    "        count_s.append(simulation.count)\n",
    "    median_index = np.argsort(count_s)[len(count_s) // 2]\n",
    "    all_simulation[median_index].plot(\"/Users/wwang33/Documents/IJAIED20/src/workspace/data/game_labels_186/simulation_10_0.7/plots/\", show = True)\n",
    "    print(label_name)\n",
    "    print(\"total_real_positive\":  all_simulation[median_index].est_num)\n",
    "    # plot_real(all_simulation[median_index],\"/Users/wwang33/Documents/IJAIED20/src/workspace/data/game_labels_186/simulation_10_0.7/plots/\")\n",
    "    print(\"total time of review\": all_simulation[median_index].count)\n",
    "    print(count_s)\n",
    "    print(stats.describe(count_s))\n",
    "#     count_s_all[label_name] = (count_s)\n",
    "\n",
    "for label_name in label_name_s:\n",
    "    get_summary_present(label_name, total, thres, target_recall)\n"
   ]
  },
  {
   "cell_type": "code",
   "execution_count": null,
   "metadata": {},
   "outputs": [],
   "source": [
    "target_recall = 0.95\n",
    "thres = 10\n",
    "label_name_s = ['keymove', 'jump', 'costopall', 'wrap', 'cochangescore', 'movetomouse','moveanimate']\n",
    "count_s_all = {}\n",
    "\n",
    "for label_name in label_name_s:\n",
    "    get_summary_present(label_name, total, thres, target_recall)"
   ]
  }
 ],
 "metadata": {
  "kernelspec": {
   "display_name": "Python 3",
   "language": "python",
   "name": "python3"
  },
  "language_info": {
   "codemirror_mode": {
    "name": "ipython",
    "version": 3
   },
   "file_extension": ".py",
   "mimetype": "text/x-python",
   "name": "python",
   "nbconvert_exporter": "python",
   "pygments_lexer": "ipython3",
   "version": "3.7.4"
  }
 },
 "nbformat": 4,
 "nbformat_minor": 4
}
